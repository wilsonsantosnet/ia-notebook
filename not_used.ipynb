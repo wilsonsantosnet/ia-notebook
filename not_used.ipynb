{
 "cells": [
  {
   "cell_type": "code",
   "execution_count": null,
   "metadata": {},
   "outputs": [],
   "source": [
    "\n",
    "def __fetch_issues_comments_info(organization:str, repo:str,pr_number:str) -> dict:\n",
    "    url = f\"https://api.github.com/repos/{organization}/{repo}/issues/{pr_number}/comments\"\n",
    "    return __call_github_api(url)\n",
    "\n",
    "\n",
    "\n",
    "    def __fetch_branch_info(organization:str, repo:str, branch:str) -> requests.Response:\n",
    "    url = f\"https://api.github.com/repos/{organization}/{repo}/branches/{branch}\"\n",
    "    return __call_github_api(url)"
   ]
  }
 ],
 "metadata": {
  "language_info": {
   "name": "python"
  }
 },
 "nbformat": 4,
 "nbformat_minor": 2
}
