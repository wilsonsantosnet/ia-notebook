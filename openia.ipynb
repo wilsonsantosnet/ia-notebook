{
 "cells": [
  {
   "cell_type": "code",
   "execution_count": 4,
   "metadata": {},
   "outputs": [
    {
     "name": "stdout",
     "output_type": "stream",
     "text": [
      "Hello, World!\n"
     ]
    }
   ],
   "source": [
    "# Cell 1: Importando bibliotecas necessárias (se houver)\n",
    "# Neste caso, não precisamos importar nenhuma biblioteca\n",
    "\n",
    "# Cell 2: Executando \"Hello, World!\"\n",
    "print(\"Hello, World!\")"
   ]
  },
  {
   "cell_type": "markdown",
   "metadata": {},
   "source": [
    "Plugin de Code Review\n",
    "\n",
    "1-) Criação do pull Request >> A github app >> axway >> srv_code_review >> bia_srv_ia\n",
    "\n",
    "\n",
    "2-) Criação do pull Request >> Github app >> pega dif no git >>  Classifica comentatio e escolhe o prompt usando LLM >> manda \n",
    "\n",
    "senha do zip github em minusculo"
   ]
  },
  {
   "cell_type": "markdown",
   "metadata": {},
   "source": [
    "Call openIA API By Http"
   ]
  },
  {
   "cell_type": "code",
   "execution_count": null,
   "metadata": {},
   "outputs": [],
   "source": [
    "import os\n",
    "import requests\n",
    "import base64\n",
    "\n",
    "def ler_arquivo(file_path):\n",
    "    \n",
    "\n",
    "    try:\n",
    "        with open(file_path, 'r', encoding='utf-8') as file:\n",
    "            content = file.read()\n",
    "        return content\n",
    "    except FileNotFoundError:\n",
    "        return \"Arquivo não encontrado.\"\n",
    "    except IOError as e:\n",
    "        return f\"Erro ao ler o arquivo: {e}\"\n",
    "    \n",
    "\n",
    "\n",
    "def executar_chamada_http(prompt,code):\n",
    "    \n",
    "  # Configuration\n",
    "  API_KEY = \"...\"\n",
    "  headers = {\n",
    "      \"Content-Type\": \"application/json\",\n",
    "      \"api-key\": API_KEY,\n",
    "  }\n",
    "\n",
    "  # Payload for the request\n",
    "  payload = {\n",
    "    \"messages\": [\n",
    "      {\n",
    "        \"role\": \"system\",\n",
    "        \"content\": [\n",
    "          {\n",
    "            \"type\": \"text\",\n",
    "            \"text\": prompt\n",
    "          }\n",
    "        ]\n",
    "      },\n",
    "      {\n",
    "        \"role\": \"user\",\n",
    "        \"content\": [\n",
    "          {\n",
    "            \"type\": \"text\",\n",
    "            \"text\": code\n",
    "          }\n",
    "        ]\n",
    "      }\n",
    "    ],\n",
    "    \"temperature\": 0.7,\n",
    "    \"top_p\": 0.95,\n",
    "    \"max_tokens\": 4000\n",
    "  }\n",
    "\n",
    "  ENDPOINT = \"https://labws03.openai.azure.com/openai/deployments/gpt-4o/chat/completions?api-version=2024-02-15-preview\"\n",
    "\n",
    "  # Send request\n",
    "  try:\n",
    "      response = requests.post(ENDPOINT, headers=headers, json=payload)\n",
    "      response.raise_for_status()  # Will raise an HTTPError if the HTTP request returned an unsuccessful status code\n",
    "  except requests.RequestException as e:\n",
    "      raise SystemExit(f\"Failed to make the request. Error: {e}\")\n",
    "\n",
    "  # Handle the response as needed (e.g., print or process)\n",
    "  response_json = response.json()\n",
    "  text = response_json[\"choices\"][0][\"message\"][\"content\"]\n",
    "\n",
    "  # print(text)\n",
    "\n",
    "  return text\n",
    "\n",
    "\n",
    "\n",
    "\n",
    "# ler prompt de um arquivos\n",
    "file_path_prompt_v1 = r'C:\\projetos\\IANotebook\\prompt-resilience-v1.pro'\n",
    "prompt = ler_arquivo(file_path_prompt_v1)\n",
    "\n",
    "file_path_prompt_v2 = r'C:\\projetos\\IANotebook\\prompt-resilience-v2.pro'\n",
    "prompt = ler_arquivo(file_path_prompt_v2)\n",
    "\n",
    "file_path_code = r'C:\\projetos\\IANotebook\\nodejs-example\\index.js'\n",
    "code = ler_arquivo(file_path_code)\n",
    "\n",
    "anlaise = executar_chamada_http(prompt,code)\n",
    "print(anlaise)\n",
    "\n",
    "\n",
    "\n"
   ]
  },
  {
   "cell_type": "markdown",
   "metadata": {},
   "source": [
    "https://docs.smith.langchain.com/old/proxy/azure_openai"
   ]
  },
  {
   "cell_type": "code",
   "execution_count": 44,
   "metadata": {},
   "outputs": [
    {
     "name": "stdout",
     "output_type": "stream",
     "text": [
      "content='Hello! How can I assist you today?' additional_kwargs={'refusal': None} response_metadata={'token_usage': {'completion_tokens': 9, 'prompt_tokens': 11, 'total_tokens': 20, 'completion_tokens_details': None, 'prompt_tokens_details': None}, 'model_name': 'gpt-4o-2024-05-13', 'system_fingerprint': 'fp_67802d9a6d', 'prompt_filter_results': [{'prompt_index': 0, 'content_filter_results': {'hate': {'filtered': False, 'severity': 'safe'}, 'jailbreak': {'filtered': False, 'detected': False}, 'self_harm': {'filtered': False, 'severity': 'safe'}, 'sexual': {'filtered': False, 'severity': 'safe'}, 'violence': {'filtered': False, 'severity': 'safe'}}}], 'finish_reason': 'stop', 'logprobs': None, 'content_filter_results': {'hate': {'filtered': False, 'severity': 'safe'}, 'protected_material_code': {'filtered': False, 'detected': False}, 'protected_material_text': {'filtered': False, 'detected': False}, 'self_harm': {'filtered': False, 'severity': 'safe'}, 'sexual': {'filtered': False, 'severity': 'safe'}, 'violence': {'filtered': False, 'severity': 'safe'}}} id='run-8797fd77-cf53-4058-8843-883e2eaa1021-0' usage_metadata={'input_tokens': 11, 'output_tokens': 9, 'total_tokens': 20, 'input_token_details': {}, 'output_token_details': {}}\n"
     ]
    }
   ],
   "source": [
    "from langchain_openai import AzureChatOpenAI\n",
    "\n",
    "\n",
    "\n",
    "os.environ[\"OPENAI_API_KEY\"] = \"3e814a46cd264b108f105f5ea739dddf\"\n",
    "os.environ[\"AZURE_OPENAI_ENDPOINT\"] = \"https://labws03.openai.azure.com/openai/deployments/gpt-4o/chat/completions?api-version=2024-02-15-preview\"\n",
    "\n",
    "\n",
    "llm = AzureChatOpenAI(deployment_name=\"gpt-4o\")\n",
    "# Out:  Hello there! How can I assist you today?\n",
    "print(llm.invoke(\"Hello, world!\"))\n"
   ]
  }
 ],
 "metadata": {
  "kernelspec": {
   "display_name": "Python 3",
   "language": "python",
   "name": "python3"
  },
  "language_info": {
   "codemirror_mode": {
    "name": "ipython",
    "version": 3
   },
   "file_extension": ".py",
   "mimetype": "text/x-python",
   "name": "python",
   "nbconvert_exporter": "python",
   "pygments_lexer": "ipython3",
   "version": "3.12.7"
  }
 },
 "nbformat": 4,
 "nbformat_minor": 2
}
